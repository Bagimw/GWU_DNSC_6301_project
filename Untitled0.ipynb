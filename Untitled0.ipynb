{
  "nbformat": 4,
  "nbformat_minor": 0,
  "metadata": {
    "colab": {
      "name": "Untitled0.ipynb",
      "provenance": [],
      "authorship_tag": "ABX9TyNSKwm8bx9ADFEByo2hq18Q",
      "include_colab_link": true
    },
    "kernelspec": {
      "name": "python3",
      "display_name": "Python 3"
    },
    "language_info": {
      "name": "python"
    }
  },
  "cells": [
    {
      "cell_type": "markdown",
      "metadata": {
        "id": "view-in-github",
        "colab_type": "text"
      },
      "source": [
        "<a href=\"https://colab.research.google.com/github/jphall663/GWU_DNSC_6301_project/blob/main/Untitled0.ipynb\" target=\"_parent\"><img src=\"https://colab.research.google.com/assets/colab-badge.svg\" alt=\"Open In Colab\"/></a>"
      ]
    },
    {
      "cell_type": "markdown",
      "metadata": {
        "id": "i1L39j-RPFs0"
      },
      "source": [
        "### Python Imports"
      ]
    },
    {
      "cell_type": "code",
      "metadata": {
        "id": "a8xwWAtHO2Es"
      },
      "source": [
        "from sklearn import tree                             # sklearn tree model for decision trees\n",
        "from sklearn.model_selection import train_test_split # for partitioning data\n",
        "from sklearn.model_selection import cross_val_score  # for cross validation\n",
        "from sklearn.metrics import roc_auc_score            # to asses decision tree perforamce\n",
        "\n",
        "# to upload local files\n",
        "import io\n",
        "from google.colab import files             \n",
        "\n",
        "import numpy as np                                   # array, vector, matrix calculations\n",
        "import pandas as pd                                  # dataFrame handling\n",
        "\n",
        "from matplotlib import pyplot as plt                 # plotting\n",
        "import seaborn as sns                                # slightly better plotting  \n",
        "\n",
        "SEED = 12345                                         # ALWAYS use a random seed for better reproducibility"
      ],
      "execution_count": 1,
      "outputs": []
    },
    {
      "cell_type": "markdown",
      "metadata": {
        "id": "IECG6GSBPNCS"
      },
      "source": [
        "### Import Data"
      ]
    },
    {
      "cell_type": "code",
      "metadata": {
        "id": "y1LfytVLO6e3"
      },
      "source": [
        "# special google colab command to upload a file from your computer\n",
        "uploaded = files.upload()"
      ],
      "execution_count": null,
      "outputs": []
    },
    {
      "cell_type": "code",
      "metadata": {
        "id": "3C5DGN6tPMZb"
      },
      "source": [
        ""
      ],
      "execution_count": null,
      "outputs": []
    }
  ]
}